{
 "cells": [
  {
   "cell_type": "code",
   "execution_count": 1,
   "metadata": {},
   "outputs": [],
   "source": [
    "import torch\n",
    "import numpy as np\n",
    "import matplotlib.pyplot as plt"
   ]
  },
  {
   "cell_type": "markdown",
   "metadata": {},
   "source": [
    "## データセット作成"
   ]
  },
  {
   "cell_type": "code",
   "execution_count": 4,
   "metadata": {},
   "outputs": [
    {
     "data": {
      "image/png": "[encoded data removed]",
      "text/plain": [
       "<Figure size 640x480 with 1 Axes>"
      ]
     },
     "metadata": {},
     "output_type": "display_data"
    }
   ],
   "source": [
    "x_train = np.arange(10, dtype='float32').reshape((10, 1))\n",
    "y_train = np.array([1.0, 1.3, 3.1, 2.0, 5.0, 6.3, 6.6, \n",
    "                    7.4, 8.0, 9.0], dtype=np.float32)\n",
    "\n",
    "plt.plot(x_train, y_train, 'o', markersize=10)\n",
    "plt.xlabel('x')\n",
    "plt.ylabel('y')\n",
    "\n",
    "plt.show()"
   ]
  },
  {
   "cell_type": "code",
   "execution_count": 8,
   "metadata": {},
   "outputs": [
    {
     "name": "stdout",
     "output_type": "stream",
     "text": [
      "torch.Size([10, 1])\n",
      "torch.Size([10])\n"
     ]
    }
   ],
   "source": [
    "print(x_train_norm.shape)\n",
    "print(y_train_norm.shape)\n",
    "\n",
    "# 形状が一致しているか確認\n",
    "assert x_train_norm.shape[0] == y_train_norm.shape[0], \"The first dimension of x_train_norm and y_train_norm must be the same\""
   ]
  },
  {
   "cell_type": "markdown",
   "metadata": {},
   "source": [
    "## 訓練データセットと対応するデータローダー作成"
   ]
  },
  {
   "cell_type": "code",
   "execution_count": 14,
   "metadata": {},
   "outputs": [],
   "source": [
    "from torch.utils.data import TensorDataset, DataLoader\n",
    "from torch.utils.data import DataLoader\n",
    "\n",
    "x_train_norm = (x_train - np.mean(x_train)) / np.std(x_train)\n",
    "x_train_norm = torch.from_numpy(x_train_norm).float()\n",
    "\n",
    "\n",
    "y_train = torch.from_numpy(y_train).float()\n",
    "\n",
    "train_ds = TensorDataset(x_train_norm, y_train)\n",
    "\n",
    "batch_size = 1\n",
    "train_dl = DataLoader(train_ds, batch_size, shuffle=True)"
   ]
  },
  {
   "cell_type": "markdown",
   "metadata": {},
   "source": [
    "## 確率勾配降下法"
   ]
  },
  {
   "cell_type": "code",
   "execution_count": 15,
   "metadata": {},
   "outputs": [
    {
     "name": "stdout",
     "output_type": "stream",
     "text": [
      "Epoch 0 Loss: 9.7532\n",
      "Epoch 10 Loss: 23.8375\n",
      "Epoch 20 Loss: 18.3256\n",
      "Epoch 30 Loss: 0.6222\n",
      "Epoch 40 Loss: 4.9872\n",
      "Epoch 50 Loss: 4.9342\n",
      "Epoch 60 Loss: 0.0743\n",
      "Epoch 70 Loss: 2.0869\n",
      "Epoch 80 Loss: 1.7429\n",
      "Epoch 90 Loss: 0.7963\n",
      "Epoch 100 Loss: 0.3350\n",
      "Epoch 110 Loss: 2.0198\n",
      "Epoch 120 Loss: 0.1548\n",
      "Epoch 130 Loss: 0.0803\n",
      "Epoch 140 Loss: 0.0123\n",
      "Epoch 150 Loss: 0.0402\n",
      "Epoch 160 Loss: 1.9228\n",
      "Epoch 170 Loss: 2.0107\n",
      "Epoch 180 Loss: 0.3522\n",
      "Epoch 190 Loss: 0.3299\n"
     ]
    }
   ],
   "source": [
    "torch.manual_seed(0)\n",
    "weight = torch.randn(1)\n",
    "weight.requires_grad_()\n",
    "bias = torch.zeros(1, requires_grad=True)\n",
    "\n",
    "def loss_fn(input, target):\n",
    "    return (input - target).pow(2).mean()\n",
    "\n",
    "def model(xb):\n",
    "    return xb @ weight.t() + bias\n",
    "\n",
    "learning_rate = 0.001\n",
    "num_epochs = 200\n",
    "log_epochs = 10\n",
    "\n",
    "for epoch in range(num_epochs):\n",
    "    for x_batch, y_batch in train_dl:\n",
    "        pred = model(x_batch)\n",
    "        loss = loss_fn(pred, y_batch)\n",
    "        loss.backward()\n",
    "        \n",
    "        with torch.no_grad():\n",
    "            weight -= weight.grad * learning_rate\n",
    "            bias -= bias.grad * learning_rate\n",
    "            weight.grad.zero_()\n",
    "            bias.grad.zero_()\n",
    "            \n",
    "    if epoch % log_epochs == 0:\n",
    "        print(f'Epoch {epoch} Loss: {loss.item():.4f}'.format(epoch+1, num_epochs, loss.item()))"
   ]
  }
 ],
 "metadata": {
  "kernelspec": {
   "display_name": "pytorch",
   "language": "python",
   "name": "python3"
  },
  "language_info": {
   "codemirror_mode": {
    "name": "ipython",
    "version": 3
   },
   "file_extension": ".py",
   "mimetype": "text/x-python",
   "name": "python",
   "nbconvert_exporter": "python",
   "pygments_lexer": "ipython3",
   "version": "3.12.2"
  }
 },
 "nbformat": 4,
 "nbformat_minor": 2
}
