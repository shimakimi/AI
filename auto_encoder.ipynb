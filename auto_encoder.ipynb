{
  "cells": [
    {
      "cell_type": "code",
      "execution_count": null,
      "metadata": {
        "id": "vwmH88LsF0hJ"
      },
      "outputs": [],
      "source": [
        "import numpy as np\n",
        "import matplotlib.pyplot as plt\n",
        "import cv2\n",
        "import glob\n",
        "from tensorflow.keras.layers import Input, Conv2D, MaxPooling2D, UpSampling2D\n",
        "from tensorflow.keras.models import Model\n",
        "from tensorflow.keras.optimizers import Adam"
      ]
    },
    {
      "cell_type": "code",
      "execution_count": null,
      "metadata": {
        "id": "QNBS2mHVGiGK"
      },
      "outputs": [],
      "source": [
        "train_images = glob.glob(\"/content/drive/MyDrive/udemy_異常検知_画像/data/*\")\n",
        "train_data = []\n",
        "\n",
        "for i in train_images:\n",
        "  image = cv2.imread(i)\n",
        "  image = cv2.cvtColor(image, cv2.COLOR_BGR2RGB)\n",
        "  train_data.append(image)\n",
        "\n",
        "train_data = np.array(train_data)\n",
        "train_data = train_data.astype(float)/255"
      ]
    },
    {
      "cell_type": "code",
      "execution_count": null,
      "metadata": {
        "id": "9M7b56haG9K2"
      },
      "outputs": [],
      "source": [
        "LEARNING_RATE = 0.001\n",
        "BATCH_SIZE = 8\n",
        "EPOCHS = 50"
      ]
    },
    {
      "cell_type": "code",
      "execution_count": null,
      "metadata": {
        "id": "gBcRTmMnHUr0"
      },
      "outputs": [],
      "source": [
        "# エンコーダ\n",
        "encoder_input = Input(shape=(128,128,3))\n",
        "\n",
        "x = Conv2D(64, (3,3), activation='relu', padding='same')(encoder_input)\n",
        "x = MaxPooling2D((2,2), padding='same')(x)\n",
        "\n",
        "x = Conv2D(32, (3,3), activation='relu', padding='same')(x)\n",
        "x = MaxPooling2D((2,2), padding='same')(x)\n",
        "\n",
        "x = Conv2D(16, (3,3), activation='relu', padding='same')(x)\n",
        "encoded = MaxPooling2D((2,2), padding='same')(x)\n",
        "\n",
        "# デコーダ\n",
        "x = Conv2D(16, (3,3), activation='relu', padding='same')(encoded)\n",
        "x = UpSampling2D((2,2))(x)\n",
        "\n",
        "x = Conv2D(32, (3,3), activation='relu', padding='same')(x)\n",
        "x = UpSampling2D((2,2))(x)\n",
        "\n",
        "x = Conv2D(64, (3,3), activation='relu', padding='same')(x)\n",
        "x = UpSampling2D((2,2))(x)\n",
        "\n",
        "decoded = Conv2D(3,(3,3), activation='sigmoid', padding='same')(x)\n",
        "\n",
        "autoencoder = Model(encoder_input, decoded)\n",
        "autoencoder.summary()"
      ]
    },
    {
      "cell_type": "code",
      "execution_count": null,
      "metadata": {
        "collapsed": true,
        "id": "ZtGHo7S4JT1o"
      },
      "outputs": [],
      "source": [
        "optimizer = Adam(learning_rate = LEARNING_RATE)\n",
        "autoencoder.compile(optimizer = optimizer, loss = 'mean_squared_error', metrics=[\"mae\", \"accuracy\"])\n",
        "\n",
        "autoencoder.fit(train_data, train_data, batch_size=BATCH_SIZE, epochs=EPOCHS)"
      ]
    },
    {
      "cell_type": "code",
      "execution_count": null,
      "metadata": {
        "id": "E29xshdFM6H_"
      },
      "outputs": [],
      "source": [
        "test_images = glob.glob(\"/content/drive/MyDrive/udemy_異常検知_画像/test_data/*\")\n",
        "test_data = []\n",
        "\n",
        "for i in test_images:\n",
        "  image = cv2.imread(i)\n",
        "  image = cv2.cvtColor(image, cv2.COLOR_BGR2RGB)\n",
        "  test_data.append(image)\n",
        "\n",
        "test_data = np.array(test_data)\n",
        "test_data = test_data.astype(float)/255"
      ]
    },
    {
      "cell_type": "code",
      "execution_count": null,
      "metadata": {
        "id": "B4WVpqLGOt53"
      },
      "outputs": [],
      "source": [
        "reconst_images = autoencoder.predict(test_data)"
      ]
    },
    {
      "cell_type": "code",
      "execution_count": null,
      "metadata": {
        "id": "GZ9Rzse3PWrh"
      },
      "outputs": [],
      "source": [
        "diff_images = np.abs(test_data - reconst_images)"
      ]
    },
    {
      "cell_type": "code",
      "execution_count": null,
      "metadata": {
        "collapsed": true,
        "id": "yVqhWcSHVJXF"
      },
      "outputs": [],
      "source": [
        "# 差分画像データ\n",
        "plt.figure(figsize=(10,10))\n",
        "\n",
        "for i in range(len(diff_images)):\n",
        "  plt.subplot(3,4,i+1)\n",
        "  plt.imshow(diff_images[i])\n",
        "  score = int(np.sum(diff_images[i]))\n",
        "  plt.title(f\"image {i+1}, {score}\")\n",
        "\n",
        "plt.tight_layout()\n",
        "plt.show()"
      ]
    },
    {
      "cell_type": "code",
      "execution_count": null,
      "metadata": {
        "id": "5Tb2KbGwVmhA"
      },
      "outputs": [],
      "source": [
        "np.max(diff_images[0])"
      ]
    },
    {
      "cell_type": "code",
      "execution_count": null,
      "metadata": {
        "id": "MEqa4gV4WOJS"
      },
      "outputs": [],
      "source": [
        "np.max(diff_images[1])"
      ]
    },
    {
      "cell_type": "code",
      "execution_count": null,
      "metadata": {
        "id": "OXuhomU1W1SS"
      },
      "outputs": [],
      "source": [
        "np.max(diff_images[2])"
      ]
    },
    {
      "cell_type": "code",
      "execution_count": null,
      "metadata": {
        "id": "Um7t_eREW3tM"
      },
      "outputs": [],
      "source": [
        "np.max(diff_images[3])"
      ]
    },
    {
      "cell_type": "code",
      "execution_count": null,
      "metadata": {
        "id": "cTuGxWcbW5Is"
      },
      "outputs": [],
      "source": [
        "np.max(diff_images[8])"
      ]
    },
    {
      "cell_type": "code",
      "execution_count": null,
      "metadata": {
        "id": "3nYsfdyLW-I4"
      },
      "outputs": [],
      "source": [
        "np.max(diff_images[9])"
      ]
    },
    {
      "cell_type": "code",
      "execution_count": null,
      "metadata": {
        "id": "w27NQVzTXAge"
      },
      "outputs": [],
      "source": [
        "# 復元データ\n",
        "plt.figure(figsize=(10,10))\n",
        "\n",
        "for i in range(len(reconst_images)):\n",
        "  plt.subplot(3,4,i+1)\n",
        "  plt.imshow(reconst_images[i])\n",
        "  plt.title(f\"image {i+1}\")\n",
        "\n",
        "plt.tight_layout()\n",
        "plt.show()"
      ]
    },
    {
      "cell_type": "code",
      "execution_count": null,
      "metadata": {
        "id": "QZ63yUtUX1gQ"
      },
      "outputs": [],
      "source": [
        "diff_images2 = np.where(diff_images < 0.3, 0, 255)"
      ]
    },
    {
      "cell_type": "code",
      "execution_count": null,
      "metadata": {
        "id": "E-shoP1kooLE"
      },
      "outputs": [],
      "source": [
        "# 差分画像データ（修正版）\n",
        "plt.figure(figsize=(10,10))\n",
        "\n",
        "for i in range(len(diff_images2)):\n",
        "  plt.subplot(3,4,i+1)\n",
        "  plt.imshow(diff_images2[i])\n",
        "  score = int(np.sum(diff_images2[i]))\n",
        "  plt.title(f\"image {i+1}, {score}\")\n",
        "\n",
        "plt.tight_layout()\n",
        "plt.show()"
      ]
    },
    {
      "cell_type": "code",
      "execution_count": null,
      "metadata": {
        "id": "sRbRIO4arU0-"
      },
      "outputs": [],
      "source": []
    }
  ],
  "metadata": {
    "accelerator": "GPU",
    "colab": {
      "gpuType": "T4",
      "provenance": []
    },
    "kernelspec": {
      "display_name": "Python 3",
      "name": "python3"
    },
    "language_info": {
      "name": "python"
    }
  },
  "nbformat": 4,
  "nbformat_minor": 0
}